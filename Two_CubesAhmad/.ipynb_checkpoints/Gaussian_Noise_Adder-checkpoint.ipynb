{
 "cells": [
  {
   "cell_type": "code",
   "execution_count": 2,
   "id": "837ee215",
   "metadata": {},
   "outputs": [],
   "source": [
    "import os\n",
    "from PIL import Image\n",
    "import os\n",
    "import cv2\n",
    "import matplotlib.pyplot as plt\n",
    "import matplotlib.image as mpimg\n",
    "import numpy as np\n",
    "# Path to the directory containing the images\n",
    "directory = './Preprocessed_Data/train/Input_images/images_folder'\n",
    "noise_direct='./Preprocessed_Data_noise/train/Input_images/images_folder'\n",
    "os.makedirs(noise_direct, exist_ok=True)\n",
    "\n",
    "# Iterate over all files in the directory\n",
    "for filename in os.listdir(directory):\n",
    "    # Check if the file is an image\n",
    "    if filename.endswith(\".jpg\") or filename.endswith(\".png\") or filename.endswith(\".jpeg\"):\n",
    "        # Open the image using PIL\n",
    "        image_path = os.path.join(directory, filename)\n",
    "        image = Image.open(image_path)\n",
    "        image_array=np.asarray(image)\n",
    "        #print(image_array.shape)\n",
    "        \n",
    "        noise = np.random.normal(scale=10, size=image_array.shape)\n",
    "        noisy_image_array = image_array + noise\n",
    "        noisy_image_array = np.clip(noisy_image_array, 0, 255).astype(np.uint8)\n",
    "        noisy_image=Image.fromarray(noisy_image_array)\n",
    "        #noisy_image.show()\n",
    "        \n",
    "        output_path = os.path.join(noise_direct, filename)\n",
    "        \n",
    "        noisy_image.save(output_path)\n",
    "        # Do something with the image\n",
    "        # For example, display the image\n",
    "        #image.show()\n"
   ]
  },
  {
   "cell_type": "code",
   "execution_count": 14,
   "id": "2fdb6d22",
   "metadata": {},
   "outputs": [
    {
     "ename": "OSError",
     "evalue": "[Errno 39] Directory not empty: './Preprocessed_Data_noise/train/Input_images/images_folder'",
     "output_type": "error",
     "traceback": [
      "\u001b[0;31m---------------------------------------------------------------------------\u001b[0m",
      "\u001b[0;31mOSError\u001b[0m                                   Traceback (most recent call last)",
      "\u001b[0;32m/tmp/ipykernel_193/2436963562.py\u001b[0m in \u001b[0;36m<module>\u001b[0;34m\u001b[0m\n\u001b[1;32m      9\u001b[0m \u001b[0mdirectory\u001b[0m \u001b[0;34m=\u001b[0m \u001b[0;34m'./Preprocessed_Data/train/Input_images/images_folder'\u001b[0m\u001b[0;34m\u001b[0m\u001b[0;34m\u001b[0m\u001b[0m\n\u001b[1;32m     10\u001b[0m \u001b[0mnoise_direct\u001b[0m\u001b[0;34m=\u001b[0m\u001b[0;34m'./Preprocessed_Data_noise/train/Input_images/images_folder'\u001b[0m\u001b[0;34m\u001b[0m\u001b[0;34m\u001b[0m\u001b[0m\n\u001b[0;32m---> 11\u001b[0;31m \u001b[0mos\u001b[0m\u001b[0;34m.\u001b[0m\u001b[0mrmdir\u001b[0m\u001b[0;34m(\u001b[0m\u001b[0mnoise_direct\u001b[0m\u001b[0;34m)\u001b[0m\u001b[0;34m\u001b[0m\u001b[0;34m\u001b[0m\u001b[0m\n\u001b[0m\u001b[1;32m     12\u001b[0m \u001b[0mos\u001b[0m\u001b[0;34m.\u001b[0m\u001b[0mmakedirs\u001b[0m\u001b[0;34m(\u001b[0m\u001b[0mnoise_direct\u001b[0m\u001b[0;34m,\u001b[0m \u001b[0mexist_ok\u001b[0m\u001b[0;34m=\u001b[0m\u001b[0;32mTrue\u001b[0m\u001b[0;34m)\u001b[0m\u001b[0;34m\u001b[0m\u001b[0;34m\u001b[0m\u001b[0m\n\u001b[1;32m     13\u001b[0m \u001b[0;34m\u001b[0m\u001b[0m\n",
      "\u001b[0;31mOSError\u001b[0m: [Errno 39] Directory not empty: './Preprocessed_Data_noise/train/Input_images/images_folder'"
     ]
    }
   ],
   "source": [
    "import os\n",
    "from PIL import Image\n",
    "import os\n",
    "import cv2\n",
    "import matplotlib.pyplot as plt\n",
    "import matplotlib.image as mpimg\n",
    "import numpy as np\n",
    "# Path to the directory containing the images\n",
    "directory = './Preprocessed_Data/train/Input_images/images_folder'\n",
    "noise_direct='./Preprocessed_Data_noise/train/Input_images/images_folder'\n",
    "os.makedirs(noise_direct, exist_ok=True)\n",
    "\n",
    "# Iterate over all files in the directory\n",
    "for filename in os.listdir(directory):\n",
    "    # Check if the file is an image\n",
    "    print(filename)\n",
    "    if filename.endswith(\".jpg\") or filename.endswith(\".png\") or filename.endswith(\".jpeg\"):\n",
    "        # Open the image using PIL\n",
    "        image_path = os.path.join(directory, filename)\n",
    "        image = Image.open(image_path)\n",
    "        image_array=np.asarray(image)\n",
    "        print(image_array.shape)"
   ]
  },
  {
   "cell_type": "code",
   "execution_count": 39,
   "id": "fcd31fa1",
   "metadata": {},
   "outputs": [
    {
     "name": "stdout",
     "output_type": "stream",
     "text": [
      "<torch.utils.data.dataloader.DataLoader object at 0x7f3ab8fb32e0> <torch.utils.data.dataloader.DataLoader object at 0x7f3ab8f429a0>\n"
     ]
    }
   ],
   "source": [
    "from Load_Batch_Data_Ahmad import load_data_generator\n",
    "\n",
    "img_input, img_target, vector_actions = load_data_generator(batch_size=1, mode='train')\n",
    "print(img_input,img_target)"
   ]
  },
  {
   "cell_type": "markdown",
   "id": "d7bfa9de",
   "metadata": {},
   "source": [
    "# This below is Where I denoise\n"
   ]
  },
  {
   "cell_type": "code",
   "execution_count": 17,
   "id": "721e11f1",
   "metadata": {},
   "outputs": [],
   "source": [
    "import os\n",
    "from PIL import Image\n",
    "import os\n",
    "import cv2\n",
    "import matplotlib.pyplot as plt\n",
    "import matplotlib.image as mpimg\n",
    "import numpy as np\n",
    "# Path to the directory containing the images\n",
    "directory = './Preprocessed_Data_noise/train/Input_images/images_folder'\n",
    "no_noise_directory='./Preprocessed_Data/train/Input_images/images_folder'\n",
    "noise_direct='./Preprocessed_Data_denoised/train/Input_images/images_folder'\n",
    "os.makedirs(noise_direct, exist_ok=True)\n",
    "\n",
    "# Iterate over all files in the directory\n",
    "for filename in os.listdir(directory):\n",
    "    # Check if the file is an image\n",
    "    if filename.endswith(\".jpg\") or filename.endswith(\".png\") or filename.endswith(\".jpeg\"):\n",
    "        # Open the image using PIL\n",
    "        image_path = os.path.join(directory, filename)\n",
    "        img = cv2.imread(image_path)\n",
    "        \n",
    "        image_path_normal=image_path = os.path.join(no_noise_directory, filename)\n",
    "        img_normal = cv2.imread(image_path_normal)\n",
    "        dst = cv2.fastNlMeansDenoisingColored(img,None,5,5)\n",
    "        output_path=os.path.join(noise_direct, filename)\n",
    "        cv2.imwrite(output_path,dst)\n",
    "        #plt.subplot(131),plt.imshow(img)\n",
    "        #plt.subplot(132),plt.imshow(dst)\n",
    "        #plt.subplot(133),plt.imshow(img_normal)\n",
    "        #plt.show()"
   ]
  },
  {
   "cell_type": "code",
   "execution_count": 3,
   "id": "2bb5e034",
   "metadata": {},
   "outputs": [],
   "source": [
    "import os \n",
    "import shutil\n",
    "shutil.rmtree('Preprocessed_Data_denoisedDPIR25')"
   ]
  },
  {
   "cell_type": "code",
   "execution_count": null,
   "id": "e4e6ebf5",
   "metadata": {},
   "outputs": [],
   "source": []
  }
 ],
 "metadata": {
  "kernelspec": {
   "display_name": "Python 3 (clean)",
   "language": "python",
   "name": "python3_clean"
  },
  "language_info": {
   "codemirror_mode": {
    "name": "ipython",
    "version": 3
   },
   "file_extension": ".py",
   "mimetype": "text/x-python",
   "name": "python",
   "nbconvert_exporter": "python",
   "pygments_lexer": "ipython3",
   "version": "3.9.5"
  }
 },
 "nbformat": 4,
 "nbformat_minor": 5
}
