{
 "cells": [
  {
   "cell_type": "code",
   "execution_count": null,
   "id": "d5c88bf8",
   "metadata": {},
   "outputs": [],
   "source": [
    "#regular\n",
    "!python AhmadChangesTrain.py\n",
    "!python Evaluate_model_pytorch.py"
   ]
  },
  {
   "cell_type": "code",
   "execution_count": null,
   "id": "7e2d116e",
   "metadata": {},
   "outputs": [],
   "source": [
    "#this is for the noisy version\n",
    "!python GaussianAdder.py\n",
    "!python AhmadChangesTrain2.py\n",
    "!python Evaluate_model_pytorch2.py"
   ]
  },
  {
   "cell_type": "code",
   "execution_count": null,
   "id": "4e7b743b",
   "metadata": {},
   "outputs": [],
   "source": [
    "# this is for non local means denoinsing\n",
    "!python GaussianAdder.py\n",
    "!python GaussianRemover.py\n",
    "!python AhmadChangesTrain3.py\n",
    "!python Evaluate_model_pytorch3.py"
   ]
  },
  {
   "cell_type": "code",
   "execution_count": null,
   "id": "b227f699",
   "metadata": {},
   "outputs": [],
   "source": [
    "# denoised DPIR25 Running out of space on my upload so only denoised the test, but to denoise the train just go to DNCNN/main_dpir.denoising.py and change testsets and resultsets to train instead of test\n",
    "# and if you are denoising please move preprocessed_data to the DNCNN folder too. I have no datahub space left at all and cant even download the zip file\n",
    "!python AhmadChangesTrain4.py\n",
    "!python Evaluate_model_pytorch4.py"
   ]
  },
  {
   "cell_type": "code",
   "execution_count": null,
   "id": "a5e64609",
   "metadata": {},
   "outputs": [],
   "source": [
    "!python AhmadChangesTrain5.py\n",
    "!python Evaluate_model_pytorch5.py"
   ]
  }
 ],
 "metadata": {
  "kernelspec": {
   "display_name": "Python 3 (clean)",
   "language": "python",
   "name": "python3_clean"
  },
  "language_info": {
   "codemirror_mode": {
    "name": "ipython",
    "version": 3
   },
   "file_extension": ".py",
   "mimetype": "text/x-python",
   "name": "python",
   "nbconvert_exporter": "python",
   "pygments_lexer": "ipython3",
   "version": "3.9.5"
  }
 },
 "nbformat": 4,
 "nbformat_minor": 5
}
