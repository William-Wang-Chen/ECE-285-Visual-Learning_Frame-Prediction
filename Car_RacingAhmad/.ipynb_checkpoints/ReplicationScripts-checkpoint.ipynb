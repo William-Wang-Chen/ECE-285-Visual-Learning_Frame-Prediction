{
 "cells": [
  {
   "cell_type": "code",
   "execution_count": 7,
   "id": "8935ac18",
   "metadata": {},
   "outputs": [
    {
     "name": "stdout",
     "output_type": "stream",
     "text": [
      "Running on GPU\n",
      "loading checkpoint\n",
      "Traceback (most recent call last):\n",
      "  File \"/home/asaid/private/SP2023Project/Action-Frame-Prediction/Car_Racing/AhmadChangesTrain1.py\", line 397, in <module>\n",
      "    intro_vae_frame_prediction(device=device,\n",
      "  File \"/home/asaid/private/SP2023Project/Action-Frame-Prediction/Car_Racing/AhmadChangesTrain1.py\", line 219, in intro_vae_frame_prediction\n",
      "    checkpoint = torch.load(\"./Model_Saved/finAh1checkpoint.pt\")\n",
      "  File \"/opt/conda/lib/python3.9/site-packages/torch/serialization.py\", line 594, in load\n",
      "    with _open_file_like(f, 'rb') as opened_file:\n",
      "  File \"/opt/conda/lib/python3.9/site-packages/torch/serialization.py\", line 230, in _open_file_like\n",
      "    return _open_file(name_or_buffer, mode)\n",
      "  File \"/opt/conda/lib/python3.9/site-packages/torch/serialization.py\", line 211, in __init__\n",
      "    super(_open_file, self).__init__(open(name, mode))\n",
      "FileNotFoundError: [Errno 2] No such file or directory: './Model_Saved/finAh1checkpoint.pt'\n",
      "single-step prediction\n",
      "[W pthreadpool-cpp.cc:90] Warning: Leaking Caffe2 thread-pool after fork. (function pthreadpool)\n",
      "[W pthreadpool-cpp.cc:90] Warning: Leaking Caffe2 thread-pool after fork. (function pthreadpool)\n",
      "[W pthreadpool-cpp.cc:90] Warning: Leaking Caffe2 thread-pool after fork. (function pthreadpool)\n",
      "[W pthreadpool-cpp.cc:90] Warning: Leaking Caffe2 thread-pool after fork. (function pthreadpool)\n",
      "[W pthreadpool-cpp.cc:90] Warning: Leaking Caffe2 thread-pool after fork. (function pthreadpool)\n",
      "[W pthreadpool-cpp.cc:90] Warning: Leaking Caffe2 thread-pool after fork. (function pthreadpool)\n",
      "[W pthreadpool-cpp.cc:90] Warning: Leaking Caffe2 thread-pool after fork. (function pthreadpool)\n",
      "[W pthreadpool-cpp.cc:90] Warning: Leaking Caffe2 thread-pool after fork. (function pthreadpool)\n",
      "1\n",
      "2\n",
      "3\n",
      "4\n",
      "5\n",
      "6\n",
      "7\n",
      "8\n",
      "9\n",
      "10\n",
      "11\n",
      "12\n",
      "Average MSE of the whole testing dataset: 0.0013215202142612065\n",
      "Average SSIM of the whole testing dataset: 0.9585068970474078\n",
      "Average PSNR of the whole testing dataset: 32.245263726344\n",
      "multiple step prediction\n",
      "[W pthreadpool-cpp.cc:90] Warning: Leaking Caffe2 thread-pool after fork. (function pthreadpool)\n",
      "[W pthreadpool-cpp.cc:90] Warning: Leaking Caffe2 thread-pool after fork. (function pthreadpool)\n",
      "[W pthreadpool-cpp.cc:90] Warning: Leaking Caffe2 thread-pool after fork. (function pthreadpool)\n",
      "[W pthreadpool-cpp.cc:90] Warning: Leaking Caffe2 thread-pool after fork. (function pthreadpool)\n",
      "[W pthreadpool-cpp.cc:90] Warning: Leaking Caffe2 thread-pool after fork. (function pthreadpool)\n",
      "[W pthreadpool-cpp.cc:90] Warning: Leaking Caffe2 thread-pool after fork. (function pthreadpool)\n",
      "[W pthreadpool-cpp.cc:90] Warning: Leaking Caffe2 thread-pool after fork. (function pthreadpool)\n",
      "[W pthreadpool-cpp.cc:90] Warning: Leaking Caffe2 thread-pool after fork. (function pthreadpool)\n",
      "[W pthreadpool-cpp.cc:90] Warning: Leaking Caffe2 thread-pool after fork. (function pthreadpool)\n",
      "[W pthreadpool-cpp.cc:90] Warning: Leaking Caffe2 thread-pool after fork. (function pthreadpool)\n",
      "[W pthreadpool-cpp.cc:90] Warning: Leaking Caffe2 thread-pool after fork. (function pthreadpool)\n",
      "[W pthreadpool-cpp.cc:90] Warning: Leaking Caffe2 thread-pool after fork. (function pthreadpool)\n",
      "0.008901231721467421 0.9266851539237086\n",
      "Figure(20000x400)\n"
     ]
    }
   ],
   "source": [
    "#this will run the baseline\n",
    "# I set everything up so it will just run my pretrained checkpoint, because it takes a long time to train and I'm assuming you guys do not want to retrain everything\n",
    "# but if you do want to train for some reason just set load_check=False in the training code\n",
    "!python AhmadChangesTrain1.py\n",
    "!python Evaluate_Model1.py"
   ]
  },
  {
   "cell_type": "code",
   "execution_count": 8,
   "id": "a0db9a11",
   "metadata": {},
   "outputs": [
    {
     "name": "stdout",
     "output_type": "stream",
     "text": [
      "Running on GPU\n",
      "loading checkpoint\n",
      "Plotting Curves\n",
      "Figure(640x480)\n",
      "single-step prediction\n",
      "[W pthreadpool-cpp.cc:90] Warning: Leaking Caffe2 thread-pool after fork. (function pthreadpool)\n",
      "[W pthreadpool-cpp.cc:90] Warning: Leaking Caffe2 thread-pool after fork. (function pthreadpool)\n",
      "[W pthreadpool-cpp.cc:90] Warning: Leaking Caffe2 thread-pool after fork. (function pthreadpool)\n",
      "[W pthreadpool-cpp.cc:90] Warning: Leaking Caffe2 thread-pool after fork. (function pthreadpool)\n",
      "[W pthreadpool-cpp.cc:90] Warning: Leaking Caffe2 thread-pool after fork. (function pthreadpool)\n",
      "[W pthreadpool-cpp.cc:90] Warning: Leaking Caffe2 thread-pool after fork. (function pthreadpool)\n",
      "[W pthreadpool-cpp.cc:90] Warning: Leaking Caffe2 thread-pool after fork. (function pthreadpool)\n",
      "[W pthreadpool-cpp.cc:90] Warning: Leaking Caffe2 thread-pool after fork. (function pthreadpool)\n",
      "1\n",
      "2\n",
      "3\n",
      "4\n",
      "5\n",
      "6\n",
      "7\n",
      "8\n",
      "9\n",
      "10\n",
      "11\n",
      "12\n",
      "Average MSE of the whole testing dataset: 0.0017812995132462258\n",
      "Average SSIM of the whole testing dataset: 0.852942110224895\n",
      "Average PSNR of the whole testing dataset: 28.755113343446002\n",
      "multiple step prediction\n",
      "[W pthreadpool-cpp.cc:90] Warning: Leaking Caffe2 thread-pool after fork. (function pthreadpool)\n",
      "[W pthreadpool-cpp.cc:90] Warning: Leaking Caffe2 thread-pool after fork. (function pthreadpool)\n",
      "[W pthreadpool-cpp.cc:90] Warning: Leaking Caffe2 thread-pool after fork. (function pthreadpool)\n",
      "[W pthreadpool-cpp.cc:90] Warning: Leaking Caffe2 thread-pool after fork. (function pthreadpool)\n",
      "[W pthreadpool-cpp.cc:90] Warning: Leaking Caffe2 thread-pool after fork. (function pthreadpool)\n",
      "[W pthreadpool-cpp.cc:90] Warning: Leaking Caffe2 thread-pool after fork. (function pthreadpool)\n",
      "[W pthreadpool-cpp.cc:90] Warning: Leaking Caffe2 thread-pool after fork. (function pthreadpool)\n",
      "[W pthreadpool-cpp.cc:90] Warning: Leaking Caffe2 thread-pool after fork. (function pthreadpool)\n",
      "^C\n",
      "Exception ignored in: <function _releaseLock at 0x7f958ff2aaf0>\n",
      "Traceback (most recent call last):\n",
      "  File \"/opt/conda/lib/python3.9/logging/__init__.py\", line 227, in _releaseLock\n",
      "    def _releaseLock():\n",
      "KeyboardInterrupt: \n",
      "[W pthreadpool-cpp.cc:90] Warning: Leaking Caffe2 thread-pool after fork. (function pthreadpool)\n",
      "[W pthreadpool-cpp.cc:90] Warning: Leaking Caffe2 thread-pool after fork. (function pthreadpool)\n"
     ]
    }
   ],
   "source": [
    "#this is for noise\n",
    "!python GaussianAdder.py\n",
    "!python AhmadChangesTrain2.py\n",
    "!python Evaluate_ModelAh2.py"
   ]
  },
  {
   "cell_type": "code",
   "execution_count": null,
   "id": "afa11eef",
   "metadata": {},
   "outputs": [],
   "source": [
    "#denoised local means\n",
    "!python GaussianRemover.py\n",
    "!python AhmadChangesTrain3.py\n",
    "!python EvaluateModelAh3.py"
   ]
  },
  {
   "cell_type": "code",
   "execution_count": null,
   "id": "6f0ea799",
   "metadata": {},
   "outputs": [],
   "source": [
    "# denoised DPIR25 Running out of space on my upload so only denoised the test, but to denoise the train just go to DNCNN/main_dpir.denoising.py and change testsets and resultsets to train instead of test\n",
    "!python AhmadChangesTrain4.py\n",
    "!python EvaluateModelAh4.py"
   ]
  },
  {
   "cell_type": "code",
   "execution_count": null,
   "id": "a1af2049",
   "metadata": {},
   "outputs": [],
   "source": [
    "# this should be the best performance one\n",
    "!python AhmadChangesTrain5.py\n",
    "!oython EvaluateModelAh5.py"
   ]
  }
 ],
 "metadata": {
  "kernelspec": {
   "display_name": "Python 3 (clean)",
   "language": "python",
   "name": "python3_clean"
  },
  "language_info": {
   "codemirror_mode": {
    "name": "ipython",
    "version": 3
   },
   "file_extension": ".py",
   "mimetype": "text/x-python",
   "name": "python",
   "nbconvert_exporter": "python",
   "pygments_lexer": "ipython3",
   "version": "3.9.5"
  }
 },
 "nbformat": 4,
 "nbformat_minor": 5
}
